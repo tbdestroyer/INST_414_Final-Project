{
 "cells": [
  {
   "cell_type": "markdown",
   "id": "f73e60fc",
   "metadata": {},
   "source": [
    "# Final Project Regression, using OLS model\n",
    "We will use this code in Power BI to create a regression and visualization"
   ]
  },
  {
   "cell_type": "code",
   "execution_count": 4,
   "id": "cda90580",
   "metadata": {},
   "outputs": [],
   "source": [
    "import pandas as pd\n",
    "orig_data = pd.read_csv(\"pg_county_accidents.csv\")\n",
    "#data includes the year column with empty accident values which will be predicted"
   ]
  },
  {
   "cell_type": "code",
   "execution_count": 5,
   "id": "18b9df72",
   "metadata": {},
   "outputs": [
    {
     "data": {
      "text/html": [
       "<div>\n",
       "<style scoped>\n",
       "    .dataframe tbody tr th:only-of-type {\n",
       "        vertical-align: middle;\n",
       "    }\n",
       "\n",
       "    .dataframe tbody tr th {\n",
       "        vertical-align: top;\n",
       "    }\n",
       "\n",
       "    .dataframe thead th {\n",
       "        text-align: right;\n",
       "    }\n",
       "</style>\n",
       "<table border=\"1\" class=\"dataframe\">\n",
       "  <thead>\n",
       "    <tr style=\"text-align: right;\">\n",
       "      <th></th>\n",
       "      <th>number_of_accidents</th>\n",
       "      <th>year</th>\n",
       "      <th>pred_year</th>\n",
       "    </tr>\n",
       "  </thead>\n",
       "  <tbody>\n",
       "    <tr>\n",
       "      <th>0</th>\n",
       "      <td>15146.0</td>\n",
       "      <td>2015</td>\n",
       "      <td>2015</td>\n",
       "    </tr>\n",
       "    <tr>\n",
       "      <th>1</th>\n",
       "      <td>16858.0</td>\n",
       "      <td>2016</td>\n",
       "      <td>2016</td>\n",
       "    </tr>\n",
       "    <tr>\n",
       "      <th>2</th>\n",
       "      <td>17944.0</td>\n",
       "      <td>2017</td>\n",
       "      <td>2017</td>\n",
       "    </tr>\n",
       "    <tr>\n",
       "      <th>3</th>\n",
       "      <td>19194.0</td>\n",
       "      <td>2018</td>\n",
       "      <td>2018</td>\n",
       "    </tr>\n",
       "    <tr>\n",
       "      <th>4</th>\n",
       "      <td>20096.0</td>\n",
       "      <td>2019</td>\n",
       "      <td>2019</td>\n",
       "    </tr>\n",
       "    <tr>\n",
       "      <th>5</th>\n",
       "      <td>NaN</td>\n",
       "      <td>2020</td>\n",
       "      <td>2020</td>\n",
       "    </tr>\n",
       "    <tr>\n",
       "      <th>6</th>\n",
       "      <td>NaN</td>\n",
       "      <td>2021</td>\n",
       "      <td>2021</td>\n",
       "    </tr>\n",
       "    <tr>\n",
       "      <th>7</th>\n",
       "      <td>NaN</td>\n",
       "      <td>2022</td>\n",
       "      <td>2022</td>\n",
       "    </tr>\n",
       "    <tr>\n",
       "      <th>8</th>\n",
       "      <td>NaN</td>\n",
       "      <td>2023</td>\n",
       "      <td>2023</td>\n",
       "    </tr>\n",
       "    <tr>\n",
       "      <th>9</th>\n",
       "      <td>NaN</td>\n",
       "      <td>2024</td>\n",
       "      <td>2024</td>\n",
       "    </tr>\n",
       "    <tr>\n",
       "      <th>10</th>\n",
       "      <td>NaN</td>\n",
       "      <td>2025</td>\n",
       "      <td>2025</td>\n",
       "    </tr>\n",
       "    <tr>\n",
       "      <th>11</th>\n",
       "      <td>NaN</td>\n",
       "      <td>2026</td>\n",
       "      <td>2026</td>\n",
       "    </tr>\n",
       "    <tr>\n",
       "      <th>12</th>\n",
       "      <td>NaN</td>\n",
       "      <td>2027</td>\n",
       "      <td>2027</td>\n",
       "    </tr>\n",
       "    <tr>\n",
       "      <th>13</th>\n",
       "      <td>NaN</td>\n",
       "      <td>2028</td>\n",
       "      <td>2028</td>\n",
       "    </tr>\n",
       "    <tr>\n",
       "      <th>14</th>\n",
       "      <td>NaN</td>\n",
       "      <td>2029</td>\n",
       "      <td>2029</td>\n",
       "    </tr>\n",
       "    <tr>\n",
       "      <th>15</th>\n",
       "      <td>NaN</td>\n",
       "      <td>2030</td>\n",
       "      <td>2030</td>\n",
       "    </tr>\n",
       "  </tbody>\n",
       "</table>\n",
       "</div>"
      ],
      "text/plain": [
       "    number_of_accidents  year  pred_year\n",
       "0               15146.0  2015       2015\n",
       "1               16858.0  2016       2016\n",
       "2               17944.0  2017       2017\n",
       "3               19194.0  2018       2018\n",
       "4               20096.0  2019       2019\n",
       "5                   NaN  2020       2020\n",
       "6                   NaN  2021       2021\n",
       "7                   NaN  2022       2022\n",
       "8                   NaN  2023       2023\n",
       "9                   NaN  2024       2024\n",
       "10                  NaN  2025       2025\n",
       "11                  NaN  2026       2026\n",
       "12                  NaN  2027       2027\n",
       "13                  NaN  2028       2028\n",
       "14                  NaN  2029       2029\n",
       "15                  NaN  2030       2030"
      ]
     },
     "execution_count": 5,
     "metadata": {},
     "output_type": "execute_result"
    }
   ],
   "source": [
    "orig_data"
   ]
  },
  {
   "cell_type": "code",
   "execution_count": 8,
   "id": "649bda54",
   "metadata": {},
   "outputs": [],
   "source": [
    "import statsmodels.formula.api as smf\n",
    "\n",
    "#from the https://greenteapress.com/thinkstats2/thinkstats2.pdf\n",
    "#Use Ordinary least Squares model from stats models\n",
    "#create a regression between number of accidents and year using patsy syntax\n",
    "#dependent variable on the left from the explanatory variables on the right.\n",
    "#The fit method fits the model to the data and returns a RegressionResults\n",
    "# object that contains the results.\n",
    "model = smf.ols(formula = \"number_of_accidents ~ year\", data = orig_data)\n",
    "reg_model = model.fit()"
   ]
  },
  {
   "cell_type": "code",
   "execution_count": 9,
   "id": "e0cfc60b",
   "metadata": {},
   "outputs": [
    {
     "data": {
      "text/plain": [
       "-2450153.5999995884"
      ]
     },
     "execution_count": 9,
     "metadata": {},
     "output_type": "execute_result"
    }
   ],
   "source": [
    "intercept = reg_model.params['Intercept']\n",
    "intercept"
   ]
  },
  {
   "cell_type": "code",
   "execution_count": 10,
   "id": "38f1a1dc",
   "metadata": {},
   "outputs": [
    {
     "data": {
      "text/plain": [
       "1223.5999999997957"
      ]
     },
     "execution_count": 10,
     "metadata": {},
     "output_type": "execute_result"
    }
   ],
   "source": [
    "slope = reg_model.params['year']\n",
    "slope"
   ]
  },
  {
   "cell_type": "code",
   "execution_count": 11,
   "id": "ab7a5e26",
   "metadata": {},
   "outputs": [],
   "source": [
    "#reg_model.pvalues['number_of_accidents']"
   ]
  },
  {
   "cell_type": "code",
   "execution_count": 12,
   "id": "774f35c5",
   "metadata": {},
   "outputs": [
    {
     "data": {
      "text/plain": [
       "0.9879006601185035"
      ]
     },
     "execution_count": 12,
     "metadata": {},
     "output_type": "execute_result"
    }
   ],
   "source": [
    "reg_model.rsquared"
   ]
  },
  {
   "cell_type": "code",
   "execution_count": 13,
   "id": "9999f798",
   "metadata": {},
   "outputs": [],
   "source": [
    "#reg_model.summary()"
   ]
  },
  {
   "cell_type": "code",
   "execution_count": 14,
   "id": "6693c8a1",
   "metadata": {},
   "outputs": [],
   "source": [
    "#reg_model.params"
   ]
  },
  {
   "cell_type": "code",
   "execution_count": 17,
   "id": "48deda1a",
   "metadata": {},
   "outputs": [],
   "source": [
    "pred=[]\n",
    "\n",
    "#find predicted accidents for years 2020..2030 and add to the list\n",
    "for y in orig_data.pred_year:\n",
    "    inputs = {\"year\":[y]}\n",
    "    pred.append (reg_model.predict(inputs)[0])"
   ]
  },
  {
   "cell_type": "code",
   "execution_count": 20,
   "id": "43e5fde0",
   "metadata": {},
   "outputs": [
    {
     "data": {
      "text/plain": [
       "[<matplotlib.lines.Line2D at 0x1e219516b30>]"
      ]
     },
     "execution_count": 20,
     "metadata": {},
     "output_type": "execute_result"
    },
    {
     "data": {
      "image/png": "[encoded data removed]",
      "text/plain": [
       "<Figure size 432x288 with 1 Axes>"
      ]
     },
     "metadata": {
      "needs_background": "light"
     },
     "output_type": "display_data"
    }
   ],
   "source": [
    "import matplotlib.pyplot as plt\n",
    "#Plot actual data as scatter plot and add the regressed (predicted) line\n",
    "plt.scatter(orig_data.year,orig_data.number_of_accidents)\n",
    "plt.plot(orig_data.pred_year,pred)"
   ]
  },
  {
   "cell_type": "code",
   "execution_count": null,
   "id": "bf97809b",
   "metadata": {},
   "outputs": [],
   "source": []
  }
 ],
 "metadata": {
  "kernelspec": {
   "display_name": "Python 3 (ipykernel)",
   "language": "python",
   "name": "python3"
  },
  "language_info": {
   "codemirror_mode": {
    "name": "ipython",
    "version": 3
   },
   "file_extension": ".py",
   "mimetype": "text/x-python",
   "name": "python",
   "nbconvert_exporter": "python",
   "pygments_lexer": "ipython3",
   "version": "3.10.2"
  }
 },
 "nbformat": 4,
 "nbformat_minor": 5
}
